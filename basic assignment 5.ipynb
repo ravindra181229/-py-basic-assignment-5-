{
 "cells": [
  {
   "cell_type": "code",
   "execution_count": 1,
   "id": "54326298",
   "metadata": {},
   "outputs": [
    {
     "data": {
      "text/plain": [
       "' {} is an empty dictionary code\\n\"two curly braces\"'"
      ]
     },
     "execution_count": 1,
     "metadata": {},
     "output_type": "execute_result"
    }
   ],
   "source": [
    "#1Q\n",
    "''' {} is an empty dictionary code\n",
    "\"two curly braces\"'''"
   ]
  },
  {
   "cell_type": "code",
   "execution_count": 2,
   "id": "8fbb510b",
   "metadata": {},
   "outputs": [
    {
     "data": {
      "text/plain": [
       "\"{'foo':42}\\nkey is 'foo' and the value is 42 \""
      ]
     },
     "execution_count": 2,
     "metadata": {},
     "output_type": "execute_result"
    }
   ],
   "source": [
    "#2Q\n",
    "'''{'foo':42}\n",
    "key is 'foo' and the value is 42 '''"
   ]
  },
  {
   "cell_type": "code",
   "execution_count": 3,
   "id": "0b8d9f12",
   "metadata": {},
   "outputs": [
    {
     "data": {
      "text/plain": [
       "'the items in the dictionary are unordered and the items in the list are ordered'"
      ]
     },
     "execution_count": 3,
     "metadata": {},
     "output_type": "execute_result"
    }
   ],
   "source": [
    "#3Q\n",
    "'''the items in the dictionary are unordered and the items in the list are ordered'''"
   ]
  },
  {
   "cell_type": "code",
   "execution_count": 4,
   "id": "57e92863",
   "metadata": {},
   "outputs": [
    {
     "data": {
      "text/plain": [
       "'we will get keyError'"
      ]
     },
     "execution_count": 4,
     "metadata": {},
     "output_type": "execute_result"
    }
   ],
   "source": [
    "#4Q\n",
    "'''we will get keyError'''"
   ]
  },
  {
   "cell_type": "code",
   "execution_count": 5,
   "id": "07a35359",
   "metadata": {},
   "outputs": [
    {
     "data": {
      "text/plain": [
       "'no difference the in operator checks a value which exists as a key in dictionary'"
      ]
     },
     "execution_count": 5,
     "metadata": {},
     "output_type": "execute_result"
    }
   ],
   "source": [
    "#5Q\n",
    "'''no difference the in operator checks a value which exists as a key in dictionary'''"
   ]
  },
  {
   "cell_type": "code",
   "execution_count": 8,
   "id": "1ca94553",
   "metadata": {},
   "outputs": [
    {
     "data": {
      "text/plain": [
       "'cat in spam checks if there is a \"cat\" key in the dictionary, while \"cat\" in spam.values() checks \\nthere is a value \"cat\" for one of the key in spam'"
      ]
     },
     "execution_count": 8,
     "metadata": {},
     "output_type": "execute_result"
    }
   ],
   "source": [
    "#6Q\n",
    "'''cat in spam checks if there is a \"cat\" key in the dictionary, while \"cat\" in spam.values() checks \n",
    "there is a value \"cat\" for one of the key in spam'''"
   ]
  },
  {
   "cell_type": "code",
   "execution_count": 9,
   "id": "cad40f21",
   "metadata": {},
   "outputs": [
    {
     "data": {
      "text/plain": [
       "\"spam.setdefault('color','black')\""
      ]
     },
     "execution_count": 9,
     "metadata": {},
     "output_type": "execute_result"
    }
   ],
   "source": [
    "#7Q\n",
    "\"\"\"spam.setdefault('color','black')\"\"\""
   ]
  },
  {
   "cell_type": "code",
   "execution_count": 10,
   "id": "13194130",
   "metadata": {},
   "outputs": [
    {
     "data": {
      "text/plain": [
       "\"we use pprint() module and pformat() function to 'pretty print' dictionary values\""
      ]
     },
     "execution_count": 10,
     "metadata": {},
     "output_type": "execute_result"
    }
   ],
   "source": [
    "#8Q\n",
    "'''we use pprint() module and pformat() function to 'pretty print' dictionary values'''"
   ]
  },
  {
   "cell_type": "code",
   "execution_count": null,
   "id": "b03e30c3",
   "metadata": {},
   "outputs": [],
   "source": []
  }
 ],
 "metadata": {
  "kernelspec": {
   "display_name": "Python 3",
   "language": "python",
   "name": "python3"
  },
  "language_info": {
   "codemirror_mode": {
    "name": "ipython",
    "version": 3
   },
   "file_extension": ".py",
   "mimetype": "text/x-python",
   "name": "python",
   "nbconvert_exporter": "python",
   "pygments_lexer": "ipython3",
   "version": "3.8.8"
  }
 },
 "nbformat": 4,
 "nbformat_minor": 5
}
